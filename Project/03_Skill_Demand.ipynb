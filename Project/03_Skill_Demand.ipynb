{
 "cells": [
  {
   "cell_type": "markdown",
   "id": "7c78b3d8",
   "metadata": {},
   "source": [
    "What are the most demanded skills for the top 3 most popular data roles?"
   ]
  },
  {
   "cell_type": "markdown",
   "id": "789497a3",
   "metadata": {},
   "source": [
    "Methodology\n",
    "1. Clean-up skill column\n",
    "2. Calculate skill count based on job_title_short\n",
    "3. Calculate skill percentage\n",
    "4. Plot final findings"
   ]
  },
  {
   "cell_type": "code",
   "execution_count": null,
   "id": "ee33c3d0",
   "metadata": {
    "vscode": {
     "languageId": "plaintext"
    }
   },
   "outputs": [],
   "source": [
    "#importing libraries\n",
    "import ast\n",
    "import pandas as pd\n",
    "from datasets import load_dataset\n",
    "import matplotlib.pyplot as plt\n",
    "\n",
    "#loading data\n",
    "dataset = load_dataset('lukebarousse/data_jobs')\n",
    "df = dataset[\"train\"].to_pandas()\n",
    "\n",
    "#data cleanup\n",
    "df[\"job_posted_date\"] = pd.to_datetime(df[\"job_posted_date\"])\n",
    "df[\"job_skills\"] = df[\"job_skills\"].apply(lambda x: ast.literal_eval(x) if pd.notna(x) else x)"
   ]
  }
 ],
 "metadata": {
  "language_info": {
   "name": "python"
  }
 },
 "nbformat": 4,
 "nbformat_minor": 5
}
