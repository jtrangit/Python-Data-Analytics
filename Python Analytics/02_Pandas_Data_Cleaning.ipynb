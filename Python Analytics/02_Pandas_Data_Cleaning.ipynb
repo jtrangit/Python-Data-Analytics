{
 "cells": [
  {
   "cell_type": "code",
   "execution_count": 1,
   "id": "1c74e4c5",
   "metadata": {},
   "outputs": [],
   "source": [
    "#importing libraries\n",
    "import pandas as pd\n",
    "from datasets import load_dataset\n",
    "import matplotlib.pyplot as plt\n",
    "\n",
    "#loading data\n",
    "dataset = load_dataset('lukebarousse/data_jobs')\n",
    "df = dataset[\"train\"].to_pandas()\n",
    "\n",
    "#data cleanup\n",
    "df[\"job_posted_date\"] = pd.to_datetime(df[\"job_posted_date\"])"
   ]
  },
  {
   "cell_type": "markdown",
   "id": "f36a82ea",
   "metadata": {},
   "source": [
    "First part of cleaning up the data is filling out the NAN values for yearly salary average and hourly average"
   ]
  },
  {
   "cell_type": "code",
   "execution_count": 3,
   "id": "2bff0d60",
   "metadata": {},
   "outputs": [],
   "source": [
    "median_salary_year = df[\"salary_year_avg\"].median()"
   ]
  },
  {
   "cell_type": "code",
   "execution_count": 4,
   "id": "91dd011c",
   "metadata": {},
   "outputs": [],
   "source": [
    "median_salary_hour = df[\"salary_hour_avg\"].median()"
   ]
  },
  {
   "cell_type": "code",
   "execution_count": 8,
   "id": "d8a42ebb",
   "metadata": {},
   "outputs": [],
   "source": [
    "#create new dataframe with some of the NAN values filled out \n",
    "df_filled = df\n",
    "\n",
    "#fill out values for yearly salary average and hourly average\n",
    "df_filled[\"salary_year_avg\"] = df_filled[\"salary_year_avg\"].fillna(median_salary_year)\n",
    "df_filled[\"salary_hour_avg\"] = df_filled[\"salary_hour_avg\"].fillna(median_salary_hour)"
   ]
  },
  {
   "cell_type": "code",
   "execution_count": 11,
   "id": "22f8bb08",
   "metadata": {},
   "outputs": [
    {
     "data": {
      "text/html": [
       "<div>\n",
       "<style scoped>\n",
       "    .dataframe tbody tr th:only-of-type {\n",
       "        vertical-align: middle;\n",
       "    }\n",
       "\n",
       "    .dataframe tbody tr th {\n",
       "        vertical-align: top;\n",
       "    }\n",
       "\n",
       "    .dataframe thead th {\n",
       "        text-align: right;\n",
       "    }\n",
       "</style>\n",
       "<table border=\"1\" class=\"dataframe\">\n",
       "  <thead>\n",
       "    <tr style=\"text-align: right;\">\n",
       "      <th></th>\n",
       "      <th>salary_year_avg</th>\n",
       "      <th>salary_hour_avg</th>\n",
       "    </tr>\n",
       "  </thead>\n",
       "  <tbody>\n",
       "    <tr>\n",
       "      <th>0</th>\n",
       "      <td>115000.0</td>\n",
       "      <td>45.98</td>\n",
       "    </tr>\n",
       "    <tr>\n",
       "      <th>1</th>\n",
       "      <td>115000.0</td>\n",
       "      <td>45.98</td>\n",
       "    </tr>\n",
       "    <tr>\n",
       "      <th>2</th>\n",
       "      <td>115000.0</td>\n",
       "      <td>45.98</td>\n",
       "    </tr>\n",
       "    <tr>\n",
       "      <th>3</th>\n",
       "      <td>115000.0</td>\n",
       "      <td>45.98</td>\n",
       "    </tr>\n",
       "    <tr>\n",
       "      <th>4</th>\n",
       "      <td>115000.0</td>\n",
       "      <td>45.98</td>\n",
       "    </tr>\n",
       "    <tr>\n",
       "      <th>...</th>\n",
       "      <td>...</td>\n",
       "      <td>...</td>\n",
       "    </tr>\n",
       "    <tr>\n",
       "      <th>785736</th>\n",
       "      <td>115000.0</td>\n",
       "      <td>45.98</td>\n",
       "    </tr>\n",
       "    <tr>\n",
       "      <th>785737</th>\n",
       "      <td>115000.0</td>\n",
       "      <td>45.98</td>\n",
       "    </tr>\n",
       "    <tr>\n",
       "      <th>785738</th>\n",
       "      <td>115000.0</td>\n",
       "      <td>45.98</td>\n",
       "    </tr>\n",
       "    <tr>\n",
       "      <th>785739</th>\n",
       "      <td>115000.0</td>\n",
       "      <td>45.98</td>\n",
       "    </tr>\n",
       "    <tr>\n",
       "      <th>785740</th>\n",
       "      <td>115000.0</td>\n",
       "      <td>45.98</td>\n",
       "    </tr>\n",
       "  </tbody>\n",
       "</table>\n",
       "<p>785741 rows × 2 columns</p>\n",
       "</div>"
      ],
      "text/plain": [
       "        salary_year_avg  salary_hour_avg\n",
       "0              115000.0            45.98\n",
       "1              115000.0            45.98\n",
       "2              115000.0            45.98\n",
       "3              115000.0            45.98\n",
       "4              115000.0            45.98\n",
       "...                 ...              ...\n",
       "785736         115000.0            45.98\n",
       "785737         115000.0            45.98\n",
       "785738         115000.0            45.98\n",
       "785739         115000.0            45.98\n",
       "785740         115000.0            45.98\n",
       "\n",
       "[785741 rows x 2 columns]"
      ]
     },
     "execution_count": 11,
     "metadata": {},
     "output_type": "execute_result"
    }
   ],
   "source": [
    "df_filled.loc[:, \"salary_year_avg\": \"salary_hour_avg\"]"
   ]
  },
  {
   "cell_type": "markdown",
   "id": "f19f6c59",
   "metadata": {},
   "source": [
    "Next we are going to remove any duplicate job postings"
   ]
  },
  {
   "cell_type": "code",
   "execution_count": 13,
   "id": "7ad0b5b9",
   "metadata": {},
   "outputs": [
    {
     "name": "stdout",
     "output_type": "stream",
     "text": [
      "Length of original df:  785741\n",
      "Length of drop duplicates df:  785640\n",
      "Rows Dropped:  101\n"
     ]
    }
   ],
   "source": [
    "df_unique = df_filled\n",
    "\n",
    "df_unique = df_unique.drop_duplicates()\n",
    "\n",
    "#debug printing to see how many rows were actually dropped\n",
    "\n",
    "print(\"Length of original df: \", len(df_filled))\n",
    "print(\"Length of drop duplicates df: \", len(df_unique))\n",
    "print(\"Rows Dropped: \", len(df_filled) - len(df_unique))"
   ]
  },
  {
   "cell_type": "markdown",
   "id": "769257f7",
   "metadata": {},
   "source": [
    "We are going to filter out even more duplicates by specifying repeat job postings from the same company"
   ]
  },
  {
   "cell_type": "code",
   "execution_count": 14,
   "id": "124cba8d",
   "metadata": {},
   "outputs": [
    {
     "name": "stdout",
     "output_type": "stream",
     "text": [
      "Length of original df:  785741\n",
      "Length of drop duplicates df:  508042\n",
      "Rows Dropped:  277699\n"
     ]
    }
   ],
   "source": [
    "df_unique = df_unique.drop_duplicates(subset=[\"job_title\", \"company_name\"])\n",
    "\n",
    "#debug printing to see how many rows were actually dropped\n",
    "\n",
    "print(\"Length of original df: \", len(df_filled))\n",
    "print(\"Length of drop duplicates df: \", len(df_unique))\n",
    "print(\"Rows Dropped: \", len(df_filled) - len(df_unique))"
   ]
  }
 ],
 "metadata": {
  "kernelspec": {
   "display_name": "python_project",
   "language": "python",
   "name": "python3"
  },
  "language_info": {
   "codemirror_mode": {
    "name": "ipython",
    "version": 3
   },
   "file_extension": ".py",
   "mimetype": "text/x-python",
   "name": "python",
   "nbconvert_exporter": "python",
   "pygments_lexer": "ipython3",
   "version": "3.11.11"
  }
 },
 "nbformat": 4,
 "nbformat_minor": 5
}
